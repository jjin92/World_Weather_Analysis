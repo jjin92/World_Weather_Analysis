{
 "cells": [
  {
   "cell_type": "code",
   "execution_count": 104,
   "metadata": {},
   "outputs": [],
   "source": [
    "# Import the dependencies.\n",
    "import pandas as pd\n",
    "import gmaps\n",
    "import requests\n",
    "# Import the API key.\n",
    "from config import g_key"
   ]
  },
  {
   "cell_type": "code",
   "execution_count": 105,
   "metadata": {},
   "outputs": [
    {
     "data": {
      "text/html": [
       "<div>\n",
       "<style scoped>\n",
       "    .dataframe tbody tr th:only-of-type {\n",
       "        vertical-align: middle;\n",
       "    }\n",
       "\n",
       "    .dataframe tbody tr th {\n",
       "        vertical-align: top;\n",
       "    }\n",
       "\n",
       "    .dataframe thead th {\n",
       "        text-align: right;\n",
       "    }\n",
       "</style>\n",
       "<table border=\"1\" class=\"dataframe\">\n",
       "  <thead>\n",
       "    <tr style=\"text-align: right;\">\n",
       "      <th></th>\n",
       "      <th>City_ID</th>\n",
       "      <th>City</th>\n",
       "      <th>Country</th>\n",
       "      <th>Max Temp</th>\n",
       "      <th>Current Description</th>\n",
       "      <th>Lat</th>\n",
       "      <th>Lng</th>\n",
       "      <th>Hotel Name</th>\n",
       "    </tr>\n",
       "  </thead>\n",
       "  <tbody>\n",
       "    <tr>\n",
       "      <th>0</th>\n",
       "      <td>3</td>\n",
       "      <td>Mantua</td>\n",
       "      <td>IT</td>\n",
       "      <td>78.01</td>\n",
       "      <td>clear sky</td>\n",
       "      <td>45.17</td>\n",
       "      <td>10.78</td>\n",
       "      <td>Hotel la Favorita</td>\n",
       "    </tr>\n",
       "    <tr>\n",
       "      <th>1</th>\n",
       "      <td>5</td>\n",
       "      <td>Kaifeng</td>\n",
       "      <td>CN</td>\n",
       "      <td>82.40</td>\n",
       "      <td>few clouds</td>\n",
       "      <td>34.79</td>\n",
       "      <td>114.35</td>\n",
       "      <td>Pullman Kaifeng Jianye</td>\n",
       "    </tr>\n",
       "    <tr>\n",
       "      <th>2</th>\n",
       "      <td>6</td>\n",
       "      <td>Bethel</td>\n",
       "      <td>US</td>\n",
       "      <td>84.00</td>\n",
       "      <td>clear sky</td>\n",
       "      <td>41.37</td>\n",
       "      <td>-73.41</td>\n",
       "      <td>Courtyard by Marriott Danbury</td>\n",
       "    </tr>\n",
       "    <tr>\n",
       "      <th>3</th>\n",
       "      <td>13</td>\n",
       "      <td>Kutum</td>\n",
       "      <td>SD</td>\n",
       "      <td>78.76</td>\n",
       "      <td>overcast clouds</td>\n",
       "      <td>14.20</td>\n",
       "      <td>24.67</td>\n",
       "      <td>Dibbo areaمنطقة دبو</td>\n",
       "    </tr>\n",
       "    <tr>\n",
       "      <th>4</th>\n",
       "      <td>22</td>\n",
       "      <td>Puerto Escondido</td>\n",
       "      <td>MX</td>\n",
       "      <td>84.20</td>\n",
       "      <td>broken clouds</td>\n",
       "      <td>15.85</td>\n",
       "      <td>-97.07</td>\n",
       "      <td>Aldea del Bazar Hotel and Spa</td>\n",
       "    </tr>\n",
       "  </tbody>\n",
       "</table>\n",
       "</div>"
      ],
      "text/plain": [
       "   City_ID              City Country  Max Temp Current Description    Lat  \\\n",
       "0        3            Mantua      IT     78.01           clear sky  45.17   \n",
       "1        5           Kaifeng      CN     82.40          few clouds  34.79   \n",
       "2        6            Bethel      US     84.00           clear sky  41.37   \n",
       "3       13             Kutum      SD     78.76     overcast clouds  14.20   \n",
       "4       22  Puerto Escondido      MX     84.20       broken clouds  15.85   \n",
       "\n",
       "      Lng                     Hotel Name  \n",
       "0   10.78              Hotel la Favorita  \n",
       "1  114.35         Pullman Kaifeng Jianye  \n",
       "2  -73.41  Courtyard by Marriott Danbury  \n",
       "3   24.67            Dibbo areaمنطقة دبو  \n",
       "4  -97.07  Aldea del Bazar Hotel and Spa  "
      ]
     },
     "execution_count": 105,
     "metadata": {},
     "output_type": "execute_result"
    }
   ],
   "source": [
    "# Store the CSV you saved created in part one into a DataFrame.\n",
    "vacation_data_df = pd.read_csv(\"weather_data/WeatherPy_vacation.csv\")\n",
    "vacation_data_df.head()"
   ]
  },
  {
   "cell_type": "code",
   "execution_count": 139,
   "metadata": {},
   "outputs": [
    {
     "data": {
      "text/html": [
       "<div>\n",
       "<style scoped>\n",
       "    .dataframe tbody tr th:only-of-type {\n",
       "        vertical-align: middle;\n",
       "    }\n",
       "\n",
       "    .dataframe tbody tr th {\n",
       "        vertical-align: top;\n",
       "    }\n",
       "\n",
       "    .dataframe thead th {\n",
       "        text-align: right;\n",
       "    }\n",
       "</style>\n",
       "<table border=\"1\" class=\"dataframe\">\n",
       "  <thead>\n",
       "    <tr style=\"text-align: right;\">\n",
       "      <th></th>\n",
       "      <th>City_ID</th>\n",
       "      <th>City</th>\n",
       "      <th>Country</th>\n",
       "      <th>Max Temp</th>\n",
       "      <th>Current Description</th>\n",
       "      <th>Lat</th>\n",
       "      <th>Lng</th>\n",
       "      <th>Hotel Name</th>\n",
       "    </tr>\n",
       "  </thead>\n",
       "  <tbody>\n",
       "    <tr>\n",
       "      <th>64</th>\n",
       "      <td>238</td>\n",
       "      <td>Vrsac</td>\n",
       "      <td>RS</td>\n",
       "      <td>78.8</td>\n",
       "      <td>clear sky</td>\n",
       "      <td>45.12</td>\n",
       "      <td>21.3</td>\n",
       "      <td>Hotel Srbija, Vršac</td>\n",
       "    </tr>\n",
       "  </tbody>\n",
       "</table>\n",
       "</div>"
      ],
      "text/plain": [
       "    City_ID   City Country  Max Temp Current Description    Lat   Lng  \\\n",
       "64      238  Vrsac      RS      78.8           clear sky  45.12  21.3   \n",
       "\n",
       "             Hotel Name  \n",
       "64  Hotel Srbija, Vršac  "
      ]
     },
     "execution_count": 139,
     "metadata": {},
     "output_type": "execute_result"
    }
   ],
   "source": [
    "# Create dataframe for city 1.\n",
    "city_1_df = vacation_data_df.loc[vacation_data_df[\"City\"]==\"Vrsac\"]\n",
    "city_1_df"
   ]
  },
  {
   "cell_type": "code",
   "execution_count": 140,
   "metadata": {},
   "outputs": [
    {
     "data": {
      "text/html": [
       "<div>\n",
       "<style scoped>\n",
       "    .dataframe tbody tr th:only-of-type {\n",
       "        vertical-align: middle;\n",
       "    }\n",
       "\n",
       "    .dataframe tbody tr th {\n",
       "        vertical-align: top;\n",
       "    }\n",
       "\n",
       "    .dataframe thead th {\n",
       "        text-align: right;\n",
       "    }\n",
       "</style>\n",
       "<table border=\"1\" class=\"dataframe\">\n",
       "  <thead>\n",
       "    <tr style=\"text-align: right;\">\n",
       "      <th></th>\n",
       "      <th>City_ID</th>\n",
       "      <th>City</th>\n",
       "      <th>Country</th>\n",
       "      <th>Max Temp</th>\n",
       "      <th>Current Description</th>\n",
       "      <th>Lat</th>\n",
       "      <th>Lng</th>\n",
       "      <th>Hotel Name</th>\n",
       "    </tr>\n",
       "  </thead>\n",
       "  <tbody>\n",
       "    <tr>\n",
       "      <th>148</th>\n",
       "      <td>554</td>\n",
       "      <td>Kisujszallas</td>\n",
       "      <td>HU</td>\n",
       "      <td>81.0</td>\n",
       "      <td>broken clouds</td>\n",
       "      <td>47.22</td>\n",
       "      <td>20.77</td>\n",
       "      <td>Hotel Kumánia</td>\n",
       "    </tr>\n",
       "  </tbody>\n",
       "</table>\n",
       "</div>"
      ],
      "text/plain": [
       "     City_ID          City Country  Max Temp Current Description    Lat  \\\n",
       "148      554  Kisujszallas      HU      81.0       broken clouds  47.22   \n",
       "\n",
       "       Lng     Hotel Name  \n",
       "148  20.77  Hotel Kumánia  "
      ]
     },
     "execution_count": 140,
     "metadata": {},
     "output_type": "execute_result"
    }
   ],
   "source": [
    "# Create dataframe for city 2.\n",
    "city_2_df = vacation_data_df.loc[vacation_data_df[\"City\"]==\"Kisujszallas\"]\n",
    "city_2_df"
   ]
  },
  {
   "cell_type": "code",
   "execution_count": 141,
   "metadata": {},
   "outputs": [
    {
     "data": {
      "text/html": [
       "<div>\n",
       "<style scoped>\n",
       "    .dataframe tbody tr th:only-of-type {\n",
       "        vertical-align: middle;\n",
       "    }\n",
       "\n",
       "    .dataframe tbody tr th {\n",
       "        vertical-align: top;\n",
       "    }\n",
       "\n",
       "    .dataframe thead th {\n",
       "        text-align: right;\n",
       "    }\n",
       "</style>\n",
       "<table border=\"1\" class=\"dataframe\">\n",
       "  <thead>\n",
       "    <tr style=\"text-align: right;\">\n",
       "      <th></th>\n",
       "      <th>City_ID</th>\n",
       "      <th>City</th>\n",
       "      <th>Country</th>\n",
       "      <th>Max Temp</th>\n",
       "      <th>Current Description</th>\n",
       "      <th>Lat</th>\n",
       "      <th>Lng</th>\n",
       "      <th>Hotel Name</th>\n",
       "    </tr>\n",
       "  </thead>\n",
       "  <tbody>\n",
       "    <tr>\n",
       "      <th>109</th>\n",
       "      <td>400</td>\n",
       "      <td>Ocsa</td>\n",
       "      <td>HU</td>\n",
       "      <td>79.0</td>\n",
       "      <td>broken clouds</td>\n",
       "      <td>47.3</td>\n",
       "      <td>19.23</td>\n",
       "      <td>Greksa László</td>\n",
       "    </tr>\n",
       "  </tbody>\n",
       "</table>\n",
       "</div>"
      ],
      "text/plain": [
       "     City_ID  City Country  Max Temp Current Description   Lat    Lng  \\\n",
       "109      400  Ocsa      HU      79.0       broken clouds  47.3  19.23   \n",
       "\n",
       "        Hotel Name  \n",
       "109  Greksa László  "
      ]
     },
     "execution_count": 141,
     "metadata": {},
     "output_type": "execute_result"
    }
   ],
   "source": [
    "# Create dataframe for city 3.\n",
    "city_3_df = vacation_data_df.loc[vacation_data_df[\"City\"]==\"Ocsa\"]\n",
    "city_3_df"
   ]
  },
  {
   "cell_type": "code",
   "execution_count": 142,
   "metadata": {},
   "outputs": [
    {
     "data": {
      "text/html": [
       "<div>\n",
       "<style scoped>\n",
       "    .dataframe tbody tr th:only-of-type {\n",
       "        vertical-align: middle;\n",
       "    }\n",
       "\n",
       "    .dataframe tbody tr th {\n",
       "        vertical-align: top;\n",
       "    }\n",
       "\n",
       "    .dataframe thead th {\n",
       "        text-align: right;\n",
       "    }\n",
       "</style>\n",
       "<table border=\"1\" class=\"dataframe\">\n",
       "  <thead>\n",
       "    <tr style=\"text-align: right;\">\n",
       "      <th></th>\n",
       "      <th>City_ID</th>\n",
       "      <th>City</th>\n",
       "      <th>Country</th>\n",
       "      <th>Max Temp</th>\n",
       "      <th>Current Description</th>\n",
       "      <th>Lat</th>\n",
       "      <th>Lng</th>\n",
       "      <th>Hotel Name</th>\n",
       "    </tr>\n",
       "  </thead>\n",
       "  <tbody>\n",
       "    <tr>\n",
       "      <th>133</th>\n",
       "      <td>496</td>\n",
       "      <td>Becsehely</td>\n",
       "      <td>HU</td>\n",
       "      <td>75.2</td>\n",
       "      <td>broken clouds</td>\n",
       "      <td>46.45</td>\n",
       "      <td>16.78</td>\n",
       "      <td>M7 Galéria Panzió</td>\n",
       "    </tr>\n",
       "  </tbody>\n",
       "</table>\n",
       "</div>"
      ],
      "text/plain": [
       "     City_ID       City Country  Max Temp Current Description    Lat    Lng  \\\n",
       "133      496  Becsehely      HU      75.2       broken clouds  46.45  16.78   \n",
       "\n",
       "            Hotel Name  \n",
       "133  M7 Galéria Panzió  "
      ]
     },
     "execution_count": 142,
     "metadata": {},
     "output_type": "execute_result"
    }
   ],
   "source": [
    "# Create dataframe for city 4.\n",
    "city_4_df = vacation_data_df.loc[vacation_data_df[\"City\"]==\"Becsehely\"]\n",
    "city_4_df"
   ]
  },
  {
   "cell_type": "code",
   "execution_count": 143,
   "metadata": {},
   "outputs": [
    {
     "data": {
      "text/html": [
       "<div>\n",
       "<style scoped>\n",
       "    .dataframe tbody tr th:only-of-type {\n",
       "        vertical-align: middle;\n",
       "    }\n",
       "\n",
       "    .dataframe tbody tr th {\n",
       "        vertical-align: top;\n",
       "    }\n",
       "\n",
       "    .dataframe thead th {\n",
       "        text-align: right;\n",
       "    }\n",
       "</style>\n",
       "<table border=\"1\" class=\"dataframe\">\n",
       "  <thead>\n",
       "    <tr style=\"text-align: right;\">\n",
       "      <th></th>\n",
       "      <th>City_ID</th>\n",
       "      <th>City</th>\n",
       "      <th>Country</th>\n",
       "      <th>Max Temp</th>\n",
       "      <th>Current Description</th>\n",
       "      <th>Lat</th>\n",
       "      <th>Lng</th>\n",
       "      <th>Hotel Name</th>\n",
       "    </tr>\n",
       "  </thead>\n",
       "  <tbody>\n",
       "    <tr>\n",
       "      <th>64</th>\n",
       "      <td>238</td>\n",
       "      <td>Vrsac</td>\n",
       "      <td>RS</td>\n",
       "      <td>78.8</td>\n",
       "      <td>clear sky</td>\n",
       "      <td>45.12</td>\n",
       "      <td>21.30</td>\n",
       "      <td>Hotel Srbija, Vršac</td>\n",
       "    </tr>\n",
       "    <tr>\n",
       "      <th>148</th>\n",
       "      <td>554</td>\n",
       "      <td>Kisujszallas</td>\n",
       "      <td>HU</td>\n",
       "      <td>81.0</td>\n",
       "      <td>broken clouds</td>\n",
       "      <td>47.22</td>\n",
       "      <td>20.77</td>\n",
       "      <td>Hotel Kumánia</td>\n",
       "    </tr>\n",
       "    <tr>\n",
       "      <th>109</th>\n",
       "      <td>400</td>\n",
       "      <td>Ocsa</td>\n",
       "      <td>HU</td>\n",
       "      <td>79.0</td>\n",
       "      <td>broken clouds</td>\n",
       "      <td>47.30</td>\n",
       "      <td>19.23</td>\n",
       "      <td>Greksa László</td>\n",
       "    </tr>\n",
       "    <tr>\n",
       "      <th>133</th>\n",
       "      <td>496</td>\n",
       "      <td>Becsehely</td>\n",
       "      <td>HU</td>\n",
       "      <td>75.2</td>\n",
       "      <td>broken clouds</td>\n",
       "      <td>46.45</td>\n",
       "      <td>16.78</td>\n",
       "      <td>M7 Galéria Panzió</td>\n",
       "    </tr>\n",
       "  </tbody>\n",
       "</table>\n",
       "</div>"
      ],
      "text/plain": [
       "     City_ID          City Country  Max Temp Current Description    Lat  \\\n",
       "64       238         Vrsac      RS      78.8           clear sky  45.12   \n",
       "148      554  Kisujszallas      HU      81.0       broken clouds  47.22   \n",
       "109      400          Ocsa      HU      79.0       broken clouds  47.30   \n",
       "133      496     Becsehely      HU      75.2       broken clouds  46.45   \n",
       "\n",
       "       Lng           Hotel Name  \n",
       "64   21.30  Hotel Srbija, Vršac  \n",
       "148  20.77        Hotel Kumánia  \n",
       "109  19.23        Greksa László  \n",
       "133  16.78    M7 Galéria Panzió  "
      ]
     },
     "execution_count": 143,
     "metadata": {},
     "output_type": "execute_result"
    }
   ],
   "source": [
    "# Combine all 4 df into one\n",
    "city_route_df = pd.concat([city_1_df, city_2_df,city_3_df,city_4_df])\n",
    "city_route_df"
   ]
  },
  {
   "cell_type": "code",
   "execution_count": 144,
   "metadata": {},
   "outputs": [],
   "source": [
    "info_box_template = \"\"\"\n",
    "<dl>\n",
    "<dt>Hotel Name</dt><dd>{Hotel Name}</dd>\n",
    "<dt>City</dt><dd>{City}</dd>\n",
    "<dt>Country</dt><dd>{Country}</dd>\n",
    "<dt>Current Weather</dt><dd>{Current Description} and {Max Temp} °F</dd>\n",
    "</dl>\n",
    "\"\"\""
   ]
  },
  {
   "cell_type": "code",
   "execution_count": 145,
   "metadata": {},
   "outputs": [],
   "source": [
    "# Store the DataFrame Row.\n",
    "hotel_info = [info_box_template.format(**row) for index, row in city_route_df.iterrows()]"
   ]
  },
  {
   "cell_type": "code",
   "execution_count": 146,
   "metadata": {},
   "outputs": [],
   "source": [
    "# get lat+lng tuple for each cities\n",
    "city_all_coord = tuple(zip(city_route_df.Lat.values,city_route_df.Lng.values))\n",
    "city_1_coord = city_all_coord[0]\n",
    "city_2_coord = city_all_coord[1]\n",
    "city_3_coord = city_all_coord[2]\n",
    "city_4_coord = city_all_coord[3]"
   ]
  },
  {
   "cell_type": "code",
   "execution_count": 149,
   "metadata": {
    "scrolled": true
   },
   "outputs": [
    {
     "data": {
      "application/vnd.jupyter.widget-view+json": {
       "model_id": "5f10dd7d992e444ebea1ff1c39f9d799",
       "version_major": 2,
       "version_minor": 0
      },
      "text/plain": [
       "Figure(layout=FigureLayout(height='420px'))"
      ]
     },
     "metadata": {},
     "output_type": "display_data"
    }
   ],
   "source": [
    "# Add a route for the vacation spots of 4 cities.\n",
    "gmaps.configure(api_key=g_key)\n",
    "locations = city_route_df[[\"Lat\", \"Lng\"]]\n",
    "\n",
    "fig = gmaps.figure(center=(7.0, -55.0), zoom_level=5)\n",
    "\n",
    "route_layer = gmaps.directions_layer(city_3_coord,city_4_coord,\n",
    "                                     waypoints=[city_2_coord,city_1_coord],\n",
    "                                     travel_mode='WALKING')\n",
    "\n",
    "fig.add_layer(route_layer)\n",
    "\n",
    "# Call the figure to plot the data.\n",
    "fig"
   ]
  },
  {
   "cell_type": "code",
   "execution_count": 157,
   "metadata": {},
   "outputs": [
    {
     "data": {
      "application/vnd.jupyter.widget-view+json": {
       "model_id": "245ea3df0a2a47b08311887116d683a0",
       "version_major": 2,
       "version_minor": 0
      },
      "text/plain": [
       "Figure(layout=FigureLayout(height='420px'))"
      ]
     },
     "metadata": {},
     "output_type": "display_data"
    }
   ],
   "source": [
    "# Add a marker layer for the vacation spots of 4 cities.\n",
    "gmaps.configure(api_key=g_key)\n",
    "locations = city_route_df[[\"Lat\", \"Lng\"]]\n",
    "\n",
    "fig = gmaps.figure(center=(48.0, 20.0), zoom_level=5.5)\n",
    "\n",
    "marker_layer = gmaps.marker_layer(locations, info_box_content=hotel_info)\n",
    "\n",
    "fig.add_layer(marker_layer)\n",
    "\n",
    "\n",
    "# Call the figure to plot the data.\n",
    "fig"
   ]
  },
  {
   "cell_type": "code",
   "execution_count": null,
   "metadata": {},
   "outputs": [],
   "source": []
  }
 ],
 "metadata": {
  "kernelspec": {
   "display_name": "PythonData",
   "language": "python",
   "name": "pythondata"
  },
  "language_info": {
   "codemirror_mode": {
    "name": "ipython",
    "version": 3
   },
   "file_extension": ".py",
   "mimetype": "text/x-python",
   "name": "python",
   "nbconvert_exporter": "python",
   "pygments_lexer": "ipython3",
   "version": "3.7.7"
  }
 },
 "nbformat": 4,
 "nbformat_minor": 4
}
