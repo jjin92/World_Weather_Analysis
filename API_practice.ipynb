{
 "cells": [
  {
   "cell_type": "code",
   "execution_count": 1,
   "metadata": {},
   "outputs": [],
   "source": [
    "# Create a practice set of random latitude and longitude combinations.\n",
    "x = [25.12903645, 25.92017388, 26.62509167, -59.98969384, 37.30571269]\n",
    "y = [-67.59741259, 11.09532135, 74.84233102, -76.89176677, -61.13376282]\n",
    "coordinates = zip(x, y)"
   ]
  },
  {
   "cell_type": "code",
   "execution_count": 2,
   "metadata": {},
   "outputs": [],
   "source": [
    "# Use the tuple() function to display the latitude and longitude combinations.\n",
    "# for coordinate in coordinates:\n",
    "#     print(coordinate[0], coordinate[1])"
   ]
  },
  {
   "cell_type": "code",
   "execution_count": 3,
   "metadata": {},
   "outputs": [],
   "source": [
    "# Use the citipy module to determine city based on latitude and longitude.\n",
    "from citipy import citipy"
   ]
  },
  {
   "cell_type": "code",
   "execution_count": 4,
   "metadata": {},
   "outputs": [
    {
     "name": "stdout",
     "output_type": "stream",
     "text": [
      "cockburn town tc\n",
      "gat ly\n",
      "parvatsar in\n",
      "punta arenas cl\n",
      "saint george bm\n"
     ]
    }
   ],
   "source": [
    "# Use the tuple() function to display the latitude and longitude combinations.\n",
    "for coordinate in coordinates:\n",
    "    print(citipy.nearest_city(coordinate[0], coordinate[1]).city_name,\n",
    "          citipy.nearest_city(coordinate[0], coordinate[1]).country_code)"
   ]
  },
  {
   "cell_type": "code",
   "execution_count": 22,
   "metadata": {},
   "outputs": [],
   "source": [
    "# Import the requests library.\n",
    "import requests\n",
    "\n",
    "# Import the API key.\n",
    "from config import weather_api_key"
   ]
  },
  {
   "cell_type": "code",
   "execution_count": 6,
   "metadata": {},
   "outputs": [
    {
     "name": "stdout",
     "output_type": "stream",
     "text": [
      "http://api.openweathermap.org/data/2.5/weather?units=Imperial&APPID=fb185b9279cb55763c3a5b112e6636fc\n"
     ]
    }
   ],
   "source": [
    "# Starting URL for Weather Map API Call.\n",
    "url = \"http://api.openweathermap.org/data/2.5/weather?units=Imperial&APPID=\" + weather_api_key\n",
    "print(url)"
   ]
  },
  {
   "cell_type": "code",
   "execution_count": 7,
   "metadata": {},
   "outputs": [
    {
     "name": "stdout",
     "output_type": "stream",
     "text": [
      "http://api.openweathermap.org/data/2.5/weather?units=Imperial&APPID=fb185b9279cb55763c3a5b112e6636fc&q=Shanghai\n"
     ]
    }
   ],
   "source": [
    "# Create an endpoint URL for a city.\n",
    "city_url = url + \"&q=\" + \"Shanghai\"\n",
    "print(city_url)"
   ]
  },
  {
   "cell_type": "code",
   "execution_count": 8,
   "metadata": {},
   "outputs": [
    {
     "data": {
      "text/plain": [
       "200"
      ]
     },
     "execution_count": 8,
     "metadata": {},
     "output_type": "execute_result"
    }
   ],
   "source": [
    "# Make a 'Get' request for the city weather.\n",
    "city_weather = requests.get(city_url)\n",
    "city_weather.status_code"
   ]
  },
  {
   "cell_type": "code",
   "execution_count": 9,
   "metadata": {},
   "outputs": [
    {
     "data": {
      "text/plain": [
       "'{\"coord\":{\"lon\":121.46,\"lat\":31.22},\"weather\":[{\"id\":804,\"main\":\"Clouds\",\"description\":\"overcast clouds\",\"icon\":\"04n\"}],\"base\":\"stations\",\"main\":{\"temp\":74.3,\"feels_like\":81.97,\"temp_min\":73,\"temp_max\":75.99,\"pressure\":1006,\"humidity\":94},\"visibility\":7000,\"wind\":{\"speed\":2.24,\"deg\":140},\"clouds\":{\"all\":100},\"dt\":1593105004,\"sys\":{\"type\":1,\"id\":9659,\"country\":\"CN\",\"sunrise\":1593118310,\"sunset\":1593169320},\"timezone\":28800,\"id\":1796236,\"name\":\"Shanghai\",\"cod\":200}'"
      ]
     },
     "execution_count": 9,
     "metadata": {},
     "output_type": "execute_result"
    }
   ],
   "source": [
    "# Get the text of the 'Get' request.\n",
    "city_weather.text"
   ]
  },
  {
   "cell_type": "code",
   "execution_count": 10,
   "metadata": {},
   "outputs": [
    {
     "data": {
      "text/plain": [
       "{'coord': {'lon': 121.46, 'lat': 31.22},\n",
       " 'weather': [{'id': 804,\n",
       "   'main': 'Clouds',\n",
       "   'description': 'overcast clouds',\n",
       "   'icon': '04n'}],\n",
       " 'base': 'stations',\n",
       " 'main': {'temp': 74.3,\n",
       "  'feels_like': 81.97,\n",
       "  'temp_min': 73,\n",
       "  'temp_max': 75.99,\n",
       "  'pressure': 1006,\n",
       "  'humidity': 94},\n",
       " 'visibility': 7000,\n",
       " 'wind': {'speed': 2.24, 'deg': 140},\n",
       " 'clouds': {'all': 100},\n",
       " 'dt': 1593105004,\n",
       " 'sys': {'type': 1,\n",
       "  'id': 9659,\n",
       "  'country': 'CN',\n",
       "  'sunrise': 1593118310,\n",
       "  'sunset': 1593169320},\n",
       " 'timezone': 28800,\n",
       " 'id': 1796236,\n",
       " 'name': 'Shanghai',\n",
       " 'cod': 200}"
      ]
     },
     "execution_count": 10,
     "metadata": {},
     "output_type": "execute_result"
    }
   ],
   "source": [
    "# Get the JSON text of the 'Get' request.\n",
    "city_weather.json()"
   ]
  },
  {
   "cell_type": "code",
   "execution_count": 11,
   "metadata": {},
   "outputs": [
    {
     "name": "stdout",
     "output_type": "stream",
     "text": [
      "City Weather found.\n"
     ]
    }
   ],
   "source": [
    "# Create an endpoint URL for a city.\n",
    "city_url = url + \"&q=\" + \"Boston\"\n",
    "city_weather = requests.get(city_url)\n",
    "if city_weather.status_code == 200:\n",
    "    print(f\"City Weather found.\")\n",
    "else:\n",
    "    print(f\"City weather not found.\")"
   ]
  },
  {
   "cell_type": "code",
   "execution_count": 48,
   "metadata": {},
   "outputs": [
    {
     "data": {
      "text/plain": [
       "{'coord': {'lon': -95.36, 'lat': 29.76},\n",
       " 'weather': [{'id': 500,\n",
       "   'main': 'Rain',\n",
       "   'description': 'light rain',\n",
       "   'icon': '10d'}],\n",
       " 'base': 'stations',\n",
       " 'main': {'temp': 75.6,\n",
       "  'feels_like': 81.32,\n",
       "  'temp_min': 73.4,\n",
       "  'temp_max': 77,\n",
       "  'pressure': 1015,\n",
       "  'humidity': 94},\n",
       " 'visibility': 14484,\n",
       " 'wind': {'speed': 6.93, 'deg': 130},\n",
       " 'rain': {'1h': 0.38},\n",
       " 'clouds': {'all': 75},\n",
       " 'dt': 1593106401,\n",
       " 'sys': {'type': 1,\n",
       "  'id': 4850,\n",
       "  'country': 'US',\n",
       "  'sunrise': 1593084156,\n",
       "  'sunset': 1593134739},\n",
       " 'timezone': -18000,\n",
       " 'id': 4699066,\n",
       " 'name': 'Houston',\n",
       " 'cod': 200}"
      ]
     },
     "execution_count": 48,
     "metadata": {},
     "output_type": "execute_result"
    }
   ],
   "source": [
    "# Create an endpoint URL for a city.\n",
    "city_url = url + \"&q=\" + \"houston\"\n",
    "city_weather = requests.get(city_url).json()\n",
    "city_weather"
   ]
  },
  {
   "cell_type": "code",
   "execution_count": 33,
   "metadata": {},
   "outputs": [
    {
     "data": {
      "text/plain": [
       "'broken clouds'"
      ]
     },
     "execution_count": 33,
     "metadata": {},
     "output_type": "execute_result"
    }
   ],
   "source": [
    "city_weather[\"weather\"][0][\"description\"]"
   ]
  },
  {
   "cell_type": "code",
   "execution_count": 51,
   "metadata": {},
   "outputs": [],
   "source": [
    "cities = [\"houston\",\"thomaston\",\"New  York\",\"Boston\"]"
   ]
  },
  {
   "cell_type": "code",
   "execution_count": 52,
   "metadata": {},
   "outputs": [
    {
     "name": "stdout",
     "output_type": "stream",
     "text": [
      "houston 29.76 -95.36 77 94 75 6.93 0.38 0 light rain\n",
      "thomaston 32.89 -84.33 79 74 90 5.82 0 0 overcast clouds\n",
      "New  York not found.\n",
      "Boston 42.36 -71.06 84.99 41 75 13.87 0 0 broken clouds\n"
     ]
    }
   ],
   "source": [
    "city_data=[]\n",
    "\n",
    "for city in cities:\n",
    "    try:\n",
    "        city_url = url + \"&q=\" + city\n",
    "        weather_data = requests.get(city_url).json()\n",
    "        lat = weather_data[\"coord\"][\"lat\"]\n",
    "        lng = weather_data[\"coord\"][\"lon\"]\n",
    "        max_temp = weather_data[\"main\"][\"temp_max\"]\n",
    "        humidity = weather_data[\"main\"][\"humidity\"]\n",
    "        clouds = weather_data[\"clouds\"][\"all\"]\n",
    "        wind = weather_data[\"wind\"][\"speed\"]\n",
    "        city_description = weather_data[\"weather\"][0][\"description\"]\n",
    "        rain = weather_data[\"rain\"][\"1h\"]\n",
    "        snow = weather_data[\"snow\"][\"1h\"]\n",
    "        \n",
    "             \n",
    "    except KeyError as err:\n",
    "        if err.args[0]=='coord':\n",
    "            print(city + \" not found.\")\n",
    "            continue\n",
    "        if err.args[0]=='rain':\n",
    "            rain = 0\n",
    "            if err.args[0]=='snow':\n",
    "                snow = 0\n",
    "        if err.args[0]=='snow':\n",
    "                snow = 0\n",
    "                \n",
    "    print(city, lat, lng, max_temp, humidity, clouds, wind,rain,snow,city_description)\n",
    "    city_data.append({\"lat\":lat,\"lng\":lng,\"wind\":wind,\"description\":city_description})"
   ]
  },
  {
   "cell_type": "code",
   "execution_count": null,
   "metadata": {},
   "outputs": [],
   "source": [
    "len(city_data)"
   ]
  },
  {
   "cell_type": "code",
   "execution_count": null,
   "metadata": {},
   "outputs": [],
   "source": [
    "import pandas as pd"
   ]
  },
  {
   "cell_type": "code",
   "execution_count": null,
   "metadata": {},
   "outputs": [],
   "source": [
    "city_data_df = pd.DataFrame(city_data)\n",
    "city_data_df"
   ]
  },
  {
   "cell_type": "code",
   "execution_count": null,
   "metadata": {},
   "outputs": [],
   "source": [
    "# Import the datetime module from the datetime library.\n",
    "from datetime import datetime\n",
    "# Get the date from the JSON file.\n",
    "date = boston_data[\"dt\"]\n",
    "# Convert the UTC date to a date format with year, month, day, hours, minutes, and seconds.\n",
    "datetime.utcfromtimestamp(date).strftime('%Y-%m-%d %H:%M:%S')"
   ]
  },
  {
   "cell_type": "code",
   "execution_count": null,
   "metadata": {},
   "outputs": [],
   "source": [
    "# Import the time module.\n",
    "import time\n",
    "# Get today's date in seconds.\n",
    "today = time.strftime(\"%x\")\n",
    "today"
   ]
  },
  {
   "cell_type": "code",
   "execution_count": null,
   "metadata": {},
   "outputs": [],
   "source": []
  }
 ],
 "metadata": {
  "kernelspec": {
   "display_name": "PythonData",
   "language": "python",
   "name": "pythondata"
  },
  "language_info": {
   "codemirror_mode": {
    "name": "ipython",
    "version": 3
   },
   "file_extension": ".py",
   "mimetype": "text/x-python",
   "name": "python",
   "nbconvert_exporter": "python",
   "pygments_lexer": "ipython3",
   "version": "3.7.7"
  }
 },
 "nbformat": 4,
 "nbformat_minor": 4
}
