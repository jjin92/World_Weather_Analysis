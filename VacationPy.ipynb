{
 "cells": [
  {
   "cell_type": "code",
   "execution_count": 1,
   "metadata": {},
   "outputs": [],
   "source": [
    "# Import the dependencies.\n",
    "import pandas as pd\n",
    "import gmaps\n",
    "import requests\n",
    "# Import the API key.\n",
    "from config import g_key"
   ]
  },
  {
   "cell_type": "code",
   "execution_count": 2,
   "metadata": {},
   "outputs": [
    {
     "data": {
      "text/html": [
       "<div>\n",
       "<style scoped>\n",
       "    .dataframe tbody tr th:only-of-type {\n",
       "        vertical-align: middle;\n",
       "    }\n",
       "\n",
       "    .dataframe tbody tr th {\n",
       "        vertical-align: top;\n",
       "    }\n",
       "\n",
       "    .dataframe thead th {\n",
       "        text-align: right;\n",
       "    }\n",
       "</style>\n",
       "<table border=\"1\" class=\"dataframe\">\n",
       "  <thead>\n",
       "    <tr style=\"text-align: right;\">\n",
       "      <th></th>\n",
       "      <th>City_ID</th>\n",
       "      <th>City</th>\n",
       "      <th>Country</th>\n",
       "      <th>Date</th>\n",
       "      <th>Lat</th>\n",
       "      <th>Lng</th>\n",
       "      <th>Max Temp</th>\n",
       "      <th>Humidity</th>\n",
       "      <th>Cloudiness</th>\n",
       "      <th>Wind Speed</th>\n",
       "    </tr>\n",
       "  </thead>\n",
       "  <tbody>\n",
       "    <tr>\n",
       "      <th>0</th>\n",
       "      <td>0</td>\n",
       "      <td>Bethel</td>\n",
       "      <td>US</td>\n",
       "      <td>2020-06-24 02:20:20</td>\n",
       "      <td>41.37</td>\n",
       "      <td>-73.41</td>\n",
       "      <td>73.00</td>\n",
       "      <td>83</td>\n",
       "      <td>1</td>\n",
       "      <td>5.82</td>\n",
       "    </tr>\n",
       "    <tr>\n",
       "      <th>1</th>\n",
       "      <td>1</td>\n",
       "      <td>Hithadhoo</td>\n",
       "      <td>MV</td>\n",
       "      <td>2020-06-24 02:23:34</td>\n",
       "      <td>-0.60</td>\n",
       "      <td>73.08</td>\n",
       "      <td>84.18</td>\n",
       "      <td>75</td>\n",
       "      <td>38</td>\n",
       "      <td>10.18</td>\n",
       "    </tr>\n",
       "    <tr>\n",
       "      <th>2</th>\n",
       "      <td>2</td>\n",
       "      <td>Mehamn</td>\n",
       "      <td>NO</td>\n",
       "      <td>2020-06-24 02:23:34</td>\n",
       "      <td>71.04</td>\n",
       "      <td>27.85</td>\n",
       "      <td>45.30</td>\n",
       "      <td>74</td>\n",
       "      <td>14</td>\n",
       "      <td>9.46</td>\n",
       "    </tr>\n",
       "    <tr>\n",
       "      <th>3</th>\n",
       "      <td>3</td>\n",
       "      <td>Half Moon Bay</td>\n",
       "      <td>US</td>\n",
       "      <td>2020-06-24 02:20:46</td>\n",
       "      <td>37.46</td>\n",
       "      <td>-122.43</td>\n",
       "      <td>73.99</td>\n",
       "      <td>60</td>\n",
       "      <td>20</td>\n",
       "      <td>9.17</td>\n",
       "    </tr>\n",
       "    <tr>\n",
       "      <th>4</th>\n",
       "      <td>4</td>\n",
       "      <td>Vaini</td>\n",
       "      <td>TO</td>\n",
       "      <td>2020-06-24 02:23:35</td>\n",
       "      <td>-21.20</td>\n",
       "      <td>-175.20</td>\n",
       "      <td>78.80</td>\n",
       "      <td>78</td>\n",
       "      <td>40</td>\n",
       "      <td>4.70</td>\n",
       "    </tr>\n",
       "  </tbody>\n",
       "</table>\n",
       "</div>"
      ],
      "text/plain": [
       "   City_ID           City Country                 Date    Lat     Lng  \\\n",
       "0        0         Bethel      US  2020-06-24 02:20:20  41.37  -73.41   \n",
       "1        1      Hithadhoo      MV  2020-06-24 02:23:34  -0.60   73.08   \n",
       "2        2         Mehamn      NO  2020-06-24 02:23:34  71.04   27.85   \n",
       "3        3  Half Moon Bay      US  2020-06-24 02:20:46  37.46 -122.43   \n",
       "4        4          Vaini      TO  2020-06-24 02:23:35 -21.20 -175.20   \n",
       "\n",
       "   Max Temp  Humidity  Cloudiness  Wind Speed  \n",
       "0     73.00        83           1        5.82  \n",
       "1     84.18        75          38       10.18  \n",
       "2     45.30        74          14        9.46  \n",
       "3     73.99        60          20        9.17  \n",
       "4     78.80        78          40        4.70  "
      ]
     },
     "execution_count": 2,
     "metadata": {},
     "output_type": "execute_result"
    }
   ],
   "source": [
    "# Store the CSV you saved created in part one into a DataFrame.\n",
    "city_data_df = pd.read_csv(\"weather_data/cities.csv\")\n",
    "city_data_df.head()"
   ]
  },
  {
   "cell_type": "code",
   "execution_count": 3,
   "metadata": {},
   "outputs": [
    {
     "data": {
      "text/plain": [
       "City_ID         int64\n",
       "City           object\n",
       "Country        object\n",
       "Date           object\n",
       "Lat           float64\n",
       "Lng           float64\n",
       "Max Temp      float64\n",
       "Humidity        int64\n",
       "Cloudiness      int64\n",
       "Wind Speed    float64\n",
       "dtype: object"
      ]
     },
     "execution_count": 3,
     "metadata": {},
     "output_type": "execute_result"
    }
   ],
   "source": [
    "# get the datatypes\n",
    "city_data_df.dtypes"
   ]
  },
  {
   "cell_type": "code",
   "execution_count": 4,
   "metadata": {},
   "outputs": [],
   "source": [
    "# Configure gmaps to use your Google API key.\n",
    "gmaps.configure(api_key=g_key)"
   ]
  },
  {
   "cell_type": "code",
   "execution_count": 7,
   "metadata": {},
   "outputs": [
    {
     "data": {
      "application/vnd.jupyter.widget-view+json": {
       "model_id": "21dd9210e0104c40bbb9cdb3d2c6ea85",
       "version_major": 2,
       "version_minor": 0
      },
      "text/plain": [
       "Figure(layout=FigureLayout(height='420px'))"
      ]
     },
     "metadata": {},
     "output_type": "display_data"
    }
   ],
   "source": [
    "# Heatmap of temperature\n",
    "# Get the latitude and longitude.\n",
    "locations = city_data_df[[\"Lat\", \"Lng\"]]\n",
    "# Get the maximum temperature.\n",
    "max_temp = city_data_df[\"Max Temp\"]\n",
    "# Assign the figure variable.\n",
    "fig = gmaps.figure(center=(30.0, 31.0), zoom_level=1.5)\n",
    "# Assign the heatmap variable.\n",
    "heat_layer = gmaps.heatmap_layer(locations, weights=[max(temp, 0) for temp in max_temp],dissipating=False, max_intensity=300, point_radius=4)\n",
    "# Add the heatmap layer.\n",
    "fig.add_layer(heat_layer)\n",
    "# Call the figure to plot the data.\n",
    "fig"
   ]
  },
  {
   "cell_type": "code",
   "execution_count": 8,
   "metadata": {},
   "outputs": [
    {
     "data": {
      "application/vnd.jupyter.widget-view+json": {
       "model_id": "cfc80d99bcf6438687c2fb4fe116da2d",
       "version_major": 2,
       "version_minor": 0
      },
      "text/plain": [
       "Figure(layout=FigureLayout(height='420px'))"
      ]
     },
     "metadata": {},
     "output_type": "display_data"
    }
   ],
   "source": [
    "# Heatmap of percent humidity\n",
    "locations = city_data_df[[\"Lat\", \"Lng\"]]\n",
    "humidity = city_data_df[\"Humidity\"]\n",
    "fig = gmaps.figure(center=(30.0, 31.0), zoom_level=1.5)\n",
    "heat_layer = gmaps.heatmap_layer(locations, weights=humidity, dissipating=False, max_intensity=300, point_radius=4)\n",
    "\n",
    "fig.add_layer(heat_layer)\n",
    "# Call the figure to plot the data.\n",
    "fig"
   ]
  },
  {
   "cell_type": "code",
   "execution_count": 9,
   "metadata": {},
   "outputs": [
    {
     "data": {
      "application/vnd.jupyter.widget-view+json": {
       "model_id": "b1fe7687e5664275beffd3d43822908a",
       "version_major": 2,
       "version_minor": 0
      },
      "text/plain": [
       "Figure(layout=FigureLayout(height='420px'))"
      ]
     },
     "metadata": {},
     "output_type": "display_data"
    }
   ],
   "source": [
    "# Heatmap of cloudiness\n",
    "locations = city_data_df[[\"Lat\", \"Lng\"]]\n",
    "clouds = city_data_df[\"Cloudiness\"]\n",
    "fig = gmaps.figure(center=(30.0, 31.0), zoom_level=1.5)\n",
    "heat_layer = gmaps.heatmap_layer(locations, weights=clouds, dissipating=False, max_intensity=300, point_radius=4)\n",
    "\n",
    "fig.add_layer(heat_layer)\n",
    "# Call the figure to plot the data.\n",
    "fig"
   ]
  },
  {
   "cell_type": "code",
   "execution_count": 10,
   "metadata": {},
   "outputs": [
    {
     "data": {
      "application/vnd.jupyter.widget-view+json": {
       "model_id": "66d04c8937a144f0bab5ee5318407ae9",
       "version_major": 2,
       "version_minor": 0
      },
      "text/plain": [
       "Figure(layout=FigureLayout(height='420px'))"
      ]
     },
     "metadata": {},
     "output_type": "display_data"
    }
   ],
   "source": [
    "# Heatmap of wind speed\n",
    "locations = city_data_df[[\"Lat\", \"Lng\"]]\n",
    "wind = city_data_df[\"Wind Speed\"]\n",
    "fig = gmaps.figure(center=(30.0, 31.0), zoom_level=1.5)\n",
    "heat_layer = gmaps.heatmap_layer(locations, weights=wind, dissipating=False, max_intensity=300, point_radius=4)\n",
    "\n",
    "fig.add_layer(heat_layer)\n",
    "# Call the figure to plot the data.\n",
    "fig"
   ]
  },
  {
   "cell_type": "code",
   "execution_count": 14,
   "metadata": {},
   "outputs": [
    {
     "name": "stdout",
     "output_type": "stream",
     "text": [
      "What is the minimum temperature you would like for your trip? 75\n",
      "What is the maximum temperature you would like for your trip? 85\n"
     ]
    }
   ],
   "source": [
    "# Ask the customer to add a minimum and maximum temperature value.\n",
    "min_temp = float(input(\"What is the minimum temperature you would like for your trip? \"))\n",
    "max_temp = float(input(\"What is the maximum temperature you would like for your trip? \"))"
   ]
  },
  {
   "cell_type": "code",
   "execution_count": 15,
   "metadata": {},
   "outputs": [
    {
     "data": {
      "text/html": [
       "<div>\n",
       "<style scoped>\n",
       "    .dataframe tbody tr th:only-of-type {\n",
       "        vertical-align: middle;\n",
       "    }\n",
       "\n",
       "    .dataframe tbody tr th {\n",
       "        vertical-align: top;\n",
       "    }\n",
       "\n",
       "    .dataframe thead th {\n",
       "        text-align: right;\n",
       "    }\n",
       "</style>\n",
       "<table border=\"1\" class=\"dataframe\">\n",
       "  <thead>\n",
       "    <tr style=\"text-align: right;\">\n",
       "      <th></th>\n",
       "      <th>City_ID</th>\n",
       "      <th>City</th>\n",
       "      <th>Country</th>\n",
       "      <th>Date</th>\n",
       "      <th>Lat</th>\n",
       "      <th>Lng</th>\n",
       "      <th>Max Temp</th>\n",
       "      <th>Humidity</th>\n",
       "      <th>Cloudiness</th>\n",
       "      <th>Wind Speed</th>\n",
       "    </tr>\n",
       "  </thead>\n",
       "  <tbody>\n",
       "    <tr>\n",
       "      <th>1</th>\n",
       "      <td>1</td>\n",
       "      <td>Hithadhoo</td>\n",
       "      <td>MV</td>\n",
       "      <td>2020-06-24 02:23:34</td>\n",
       "      <td>-0.60</td>\n",
       "      <td>73.08</td>\n",
       "      <td>84.18</td>\n",
       "      <td>75</td>\n",
       "      <td>38</td>\n",
       "      <td>10.18</td>\n",
       "    </tr>\n",
       "    <tr>\n",
       "      <th>4</th>\n",
       "      <td>4</td>\n",
       "      <td>Vaini</td>\n",
       "      <td>TO</td>\n",
       "      <td>2020-06-24 02:23:35</td>\n",
       "      <td>-21.20</td>\n",
       "      <td>-175.20</td>\n",
       "      <td>78.80</td>\n",
       "      <td>78</td>\n",
       "      <td>40</td>\n",
       "      <td>4.70</td>\n",
       "    </tr>\n",
       "    <tr>\n",
       "      <th>7</th>\n",
       "      <td>7</td>\n",
       "      <td>Logan Lake</td>\n",
       "      <td>CA</td>\n",
       "      <td>2020-06-24 02:23:35</td>\n",
       "      <td>50.50</td>\n",
       "      <td>-120.80</td>\n",
       "      <td>77.00</td>\n",
       "      <td>41</td>\n",
       "      <td>75</td>\n",
       "      <td>10.29</td>\n",
       "    </tr>\n",
       "    <tr>\n",
       "      <th>10</th>\n",
       "      <td>10</td>\n",
       "      <td>Naze</td>\n",
       "      <td>JP</td>\n",
       "      <td>2020-06-24 02:23:35</td>\n",
       "      <td>28.37</td>\n",
       "      <td>129.48</td>\n",
       "      <td>82.40</td>\n",
       "      <td>78</td>\n",
       "      <td>75</td>\n",
       "      <td>4.70</td>\n",
       "    </tr>\n",
       "    <tr>\n",
       "      <th>11</th>\n",
       "      <td>11</td>\n",
       "      <td>Matara</td>\n",
       "      <td>LK</td>\n",
       "      <td>2020-06-24 02:23:35</td>\n",
       "      <td>5.95</td>\n",
       "      <td>80.54</td>\n",
       "      <td>81.84</td>\n",
       "      <td>81</td>\n",
       "      <td>100</td>\n",
       "      <td>10.83</td>\n",
       "    </tr>\n",
       "    <tr>\n",
       "      <th>15</th>\n",
       "      <td>15</td>\n",
       "      <td>Sakakah</td>\n",
       "      <td>SA</td>\n",
       "      <td>2020-06-24 02:23:35</td>\n",
       "      <td>29.97</td>\n",
       "      <td>40.21</td>\n",
       "      <td>77.00</td>\n",
       "      <td>16</td>\n",
       "      <td>0</td>\n",
       "      <td>14.99</td>\n",
       "    </tr>\n",
       "    <tr>\n",
       "      <th>16</th>\n",
       "      <td>16</td>\n",
       "      <td>Shingu</td>\n",
       "      <td>JP</td>\n",
       "      <td>2020-06-24 02:20:28</td>\n",
       "      <td>33.73</td>\n",
       "      <td>135.98</td>\n",
       "      <td>77.00</td>\n",
       "      <td>78</td>\n",
       "      <td>40</td>\n",
       "      <td>16.11</td>\n",
       "    </tr>\n",
       "    <tr>\n",
       "      <th>17</th>\n",
       "      <td>17</td>\n",
       "      <td>Hay River</td>\n",
       "      <td>CA</td>\n",
       "      <td>2020-06-24 02:23:35</td>\n",
       "      <td>60.82</td>\n",
       "      <td>-115.80</td>\n",
       "      <td>75.20</td>\n",
       "      <td>27</td>\n",
       "      <td>75</td>\n",
       "      <td>18.34</td>\n",
       "    </tr>\n",
       "    <tr>\n",
       "      <th>26</th>\n",
       "      <td>26</td>\n",
       "      <td>Hilo</td>\n",
       "      <td>US</td>\n",
       "      <td>2020-06-24 02:23:20</td>\n",
       "      <td>19.73</td>\n",
       "      <td>-155.09</td>\n",
       "      <td>82.40</td>\n",
       "      <td>58</td>\n",
       "      <td>90</td>\n",
       "      <td>8.05</td>\n",
       "    </tr>\n",
       "    <tr>\n",
       "      <th>30</th>\n",
       "      <td>30</td>\n",
       "      <td>Dongsheng</td>\n",
       "      <td>CN</td>\n",
       "      <td>2020-06-24 02:23:37</td>\n",
       "      <td>39.82</td>\n",
       "      <td>109.98</td>\n",
       "      <td>80.22</td>\n",
       "      <td>20</td>\n",
       "      <td>87</td>\n",
       "      <td>10.07</td>\n",
       "    </tr>\n",
       "  </tbody>\n",
       "</table>\n",
       "</div>"
      ],
      "text/plain": [
       "    City_ID        City Country                 Date    Lat     Lng  Max Temp  \\\n",
       "1         1   Hithadhoo      MV  2020-06-24 02:23:34  -0.60   73.08     84.18   \n",
       "4         4       Vaini      TO  2020-06-24 02:23:35 -21.20 -175.20     78.80   \n",
       "7         7  Logan Lake      CA  2020-06-24 02:23:35  50.50 -120.80     77.00   \n",
       "10       10        Naze      JP  2020-06-24 02:23:35  28.37  129.48     82.40   \n",
       "11       11      Matara      LK  2020-06-24 02:23:35   5.95   80.54     81.84   \n",
       "15       15     Sakakah      SA  2020-06-24 02:23:35  29.97   40.21     77.00   \n",
       "16       16      Shingu      JP  2020-06-24 02:20:28  33.73  135.98     77.00   \n",
       "17       17   Hay River      CA  2020-06-24 02:23:35  60.82 -115.80     75.20   \n",
       "26       26        Hilo      US  2020-06-24 02:23:20  19.73 -155.09     82.40   \n",
       "30       30   Dongsheng      CN  2020-06-24 02:23:37  39.82  109.98     80.22   \n",
       "\n",
       "    Humidity  Cloudiness  Wind Speed  \n",
       "1         75          38       10.18  \n",
       "4         78          40        4.70  \n",
       "7         41          75       10.29  \n",
       "10        78          75        4.70  \n",
       "11        81         100       10.83  \n",
       "15        16           0       14.99  \n",
       "16        78          40       16.11  \n",
       "17        27          75       18.34  \n",
       "26        58          90        8.05  \n",
       "30        20          87       10.07  "
      ]
     },
     "execution_count": 15,
     "metadata": {},
     "output_type": "execute_result"
    }
   ],
   "source": [
    "# Filter the dataset to find the cities that fit the criteria.\n",
    "preferred_cities_df = city_data_df.loc[(city_data_df[\"Max Temp\"] <= max_temp) & \\\n",
    "                                       (city_data_df[\"Max Temp\"] >= min_temp)]\n",
    "preferred_cities_df.head(10)"
   ]
  },
  {
   "cell_type": "code",
   "execution_count": 16,
   "metadata": {},
   "outputs": [
    {
     "data": {
      "text/plain": [
       "City_ID       164\n",
       "City          164\n",
       "Country       164\n",
       "Date          164\n",
       "Lat           164\n",
       "Lng           164\n",
       "Max Temp      164\n",
       "Humidity      164\n",
       "Cloudiness    164\n",
       "Wind Speed    164\n",
       "dtype: int64"
      ]
     },
     "execution_count": 16,
     "metadata": {},
     "output_type": "execute_result"
    }
   ],
   "source": [
    "preferred_cities_df.count()"
   ]
  },
  {
   "cell_type": "code",
   "execution_count": 17,
   "metadata": {},
   "outputs": [
    {
     "data": {
      "text/html": [
       "<div>\n",
       "<style scoped>\n",
       "    .dataframe tbody tr th:only-of-type {\n",
       "        vertical-align: middle;\n",
       "    }\n",
       "\n",
       "    .dataframe tbody tr th {\n",
       "        vertical-align: top;\n",
       "    }\n",
       "\n",
       "    .dataframe thead th {\n",
       "        text-align: right;\n",
       "    }\n",
       "</style>\n",
       "<table border=\"1\" class=\"dataframe\">\n",
       "  <thead>\n",
       "    <tr style=\"text-align: right;\">\n",
       "      <th></th>\n",
       "      <th>City</th>\n",
       "      <th>Country</th>\n",
       "      <th>Max Temp</th>\n",
       "      <th>Lat</th>\n",
       "      <th>Lng</th>\n",
       "      <th>Hotel Name</th>\n",
       "    </tr>\n",
       "  </thead>\n",
       "  <tbody>\n",
       "    <tr>\n",
       "      <th>1</th>\n",
       "      <td>Hithadhoo</td>\n",
       "      <td>MV</td>\n",
       "      <td>84.18</td>\n",
       "      <td>-0.60</td>\n",
       "      <td>73.08</td>\n",
       "      <td></td>\n",
       "    </tr>\n",
       "    <tr>\n",
       "      <th>4</th>\n",
       "      <td>Vaini</td>\n",
       "      <td>TO</td>\n",
       "      <td>78.80</td>\n",
       "      <td>-21.20</td>\n",
       "      <td>-175.20</td>\n",
       "      <td></td>\n",
       "    </tr>\n",
       "    <tr>\n",
       "      <th>7</th>\n",
       "      <td>Logan Lake</td>\n",
       "      <td>CA</td>\n",
       "      <td>77.00</td>\n",
       "      <td>50.50</td>\n",
       "      <td>-120.80</td>\n",
       "      <td></td>\n",
       "    </tr>\n",
       "    <tr>\n",
       "      <th>10</th>\n",
       "      <td>Naze</td>\n",
       "      <td>JP</td>\n",
       "      <td>82.40</td>\n",
       "      <td>28.37</td>\n",
       "      <td>129.48</td>\n",
       "      <td></td>\n",
       "    </tr>\n",
       "    <tr>\n",
       "      <th>11</th>\n",
       "      <td>Matara</td>\n",
       "      <td>LK</td>\n",
       "      <td>81.84</td>\n",
       "      <td>5.95</td>\n",
       "      <td>80.54</td>\n",
       "      <td></td>\n",
       "    </tr>\n",
       "    <tr>\n",
       "      <th>15</th>\n",
       "      <td>Sakakah</td>\n",
       "      <td>SA</td>\n",
       "      <td>77.00</td>\n",
       "      <td>29.97</td>\n",
       "      <td>40.21</td>\n",
       "      <td></td>\n",
       "    </tr>\n",
       "    <tr>\n",
       "      <th>16</th>\n",
       "      <td>Shingu</td>\n",
       "      <td>JP</td>\n",
       "      <td>77.00</td>\n",
       "      <td>33.73</td>\n",
       "      <td>135.98</td>\n",
       "      <td></td>\n",
       "    </tr>\n",
       "    <tr>\n",
       "      <th>17</th>\n",
       "      <td>Hay River</td>\n",
       "      <td>CA</td>\n",
       "      <td>75.20</td>\n",
       "      <td>60.82</td>\n",
       "      <td>-115.80</td>\n",
       "      <td></td>\n",
       "    </tr>\n",
       "    <tr>\n",
       "      <th>26</th>\n",
       "      <td>Hilo</td>\n",
       "      <td>US</td>\n",
       "      <td>82.40</td>\n",
       "      <td>19.73</td>\n",
       "      <td>-155.09</td>\n",
       "      <td></td>\n",
       "    </tr>\n",
       "    <tr>\n",
       "      <th>30</th>\n",
       "      <td>Dongsheng</td>\n",
       "      <td>CN</td>\n",
       "      <td>80.22</td>\n",
       "      <td>39.82</td>\n",
       "      <td>109.98</td>\n",
       "      <td></td>\n",
       "    </tr>\n",
       "  </tbody>\n",
       "</table>\n",
       "</div>"
      ],
      "text/plain": [
       "          City Country  Max Temp    Lat     Lng Hotel Name\n",
       "1    Hithadhoo      MV     84.18  -0.60   73.08           \n",
       "4        Vaini      TO     78.80 -21.20 -175.20           \n",
       "7   Logan Lake      CA     77.00  50.50 -120.80           \n",
       "10        Naze      JP     82.40  28.37  129.48           \n",
       "11      Matara      LK     81.84   5.95   80.54           \n",
       "15     Sakakah      SA     77.00  29.97   40.21           \n",
       "16      Shingu      JP     77.00  33.73  135.98           \n",
       "17   Hay River      CA     75.20  60.82 -115.80           \n",
       "26        Hilo      US     82.40  19.73 -155.09           \n",
       "30   Dongsheng      CN     80.22  39.82  109.98           "
      ]
     },
     "execution_count": 17,
     "metadata": {},
     "output_type": "execute_result"
    }
   ],
   "source": [
    "# Create DataFrame called hotel_df to store hotel names along with city, country, max temp, and coordinates.\n",
    "hotel_df = preferred_cities_df[[\"City\", \"Country\", \"Max Temp\", \"Lat\", \"Lng\"]].copy()\n",
    "hotel_df[\"Hotel Name\"] = \"\"\n",
    "hotel_df.head(10)\n"
   ]
  },
  {
   "cell_type": "code",
   "execution_count": 18,
   "metadata": {},
   "outputs": [],
   "source": [
    "# Set parameters to search for a hotel.\n",
    "params = {\n",
    "    \"radius\": 5000,\n",
    "    \"type\": \"lodging\",\n",
    "    \"key\": g_key\n",
    "}"
   ]
  },
  {
   "cell_type": "code",
   "execution_count": 19,
   "metadata": {},
   "outputs": [
    {
     "name": "stdout",
     "output_type": "stream",
     "text": [
      "Hotel not found... skipping.\n",
      "Hotel not found... skipping.\n",
      "Hotel not found... skipping.\n",
      "Hotel not found... skipping.\n",
      "Hotel not found... skipping.\n",
      "Hotel not found... skipping.\n",
      "Hotel not found... skipping.\n",
      "Hotel not found... skipping.\n",
      "Hotel not found... skipping.\n",
      "Hotel not found... skipping.\n",
      "Hotel not found... skipping.\n",
      "Hotel not found... skipping.\n",
      "Hotel not found... skipping.\n",
      "Hotel not found... skipping.\n",
      "Hotel not found... skipping.\n"
     ]
    }
   ],
   "source": [
    "# Iterate through the DataFrame.\n",
    "for index, row in hotel_df.iterrows():\n",
    "    # Get the latitude and longitude.\n",
    "    lat = row[\"Lat\"]\n",
    "    lng = row[\"Lng\"]\n",
    "\n",
    "    # Add the latitude and longitude to location key for the params dictionary.\n",
    "    params[\"location\"] = f\"{lat},{lng}\"\n",
    "\n",
    "    # Use the search term: \"lodging\" and our latitude and longitude.\n",
    "    base_url = \"https://maps.googleapis.com/maps/api/place/nearbysearch/json\"\n",
    "    # Make request and get the JSON data from the search.\n",
    "    hotels = requests.get(base_url, params=params).json()\n",
    "    # Grab the first hotel from the results and store the name.\n",
    "    try:\n",
    "        hotel_df.loc[index, \"Hotel Name\"] = hotels[\"results\"][0][\"name\"]\n",
    "    except (IndexError):\n",
    "        print(\"Hotel not found... skipping.\")"
   ]
  },
  {
   "cell_type": "code",
   "execution_count": 20,
   "metadata": {},
   "outputs": [
    {
     "data": {
      "text/html": [
       "<div>\n",
       "<style scoped>\n",
       "    .dataframe tbody tr th:only-of-type {\n",
       "        vertical-align: middle;\n",
       "    }\n",
       "\n",
       "    .dataframe tbody tr th {\n",
       "        vertical-align: top;\n",
       "    }\n",
       "\n",
       "    .dataframe thead th {\n",
       "        text-align: right;\n",
       "    }\n",
       "</style>\n",
       "<table border=\"1\" class=\"dataframe\">\n",
       "  <thead>\n",
       "    <tr style=\"text-align: right;\">\n",
       "      <th></th>\n",
       "      <th>City</th>\n",
       "      <th>Country</th>\n",
       "      <th>Max Temp</th>\n",
       "      <th>Lat</th>\n",
       "      <th>Lng</th>\n",
       "      <th>Hotel Name</th>\n",
       "    </tr>\n",
       "  </thead>\n",
       "  <tbody>\n",
       "    <tr>\n",
       "      <th>1</th>\n",
       "      <td>Hithadhoo</td>\n",
       "      <td>MV</td>\n",
       "      <td>84.18</td>\n",
       "      <td>-0.60</td>\n",
       "      <td>73.08</td>\n",
       "      <td>Scoop Guest House</td>\n",
       "    </tr>\n",
       "    <tr>\n",
       "      <th>4</th>\n",
       "      <td>Vaini</td>\n",
       "      <td>TO</td>\n",
       "      <td>78.80</td>\n",
       "      <td>-21.20</td>\n",
       "      <td>-175.20</td>\n",
       "      <td>Keleti Beach Resort</td>\n",
       "    </tr>\n",
       "    <tr>\n",
       "      <th>7</th>\n",
       "      <td>Logan Lake</td>\n",
       "      <td>CA</td>\n",
       "      <td>77.00</td>\n",
       "      <td>50.50</td>\n",
       "      <td>-120.80</td>\n",
       "      <td>Copper Valley Resort</td>\n",
       "    </tr>\n",
       "    <tr>\n",
       "      <th>10</th>\n",
       "      <td>Naze</td>\n",
       "      <td>JP</td>\n",
       "      <td>82.40</td>\n",
       "      <td>28.37</td>\n",
       "      <td>129.48</td>\n",
       "      <td>奄美ポートタワーホテル</td>\n",
       "    </tr>\n",
       "    <tr>\n",
       "      <th>11</th>\n",
       "      <td>Matara</td>\n",
       "      <td>LK</td>\n",
       "      <td>81.84</td>\n",
       "      <td>5.95</td>\n",
       "      <td>80.54</td>\n",
       "      <td>Amaloh Boutique Resort</td>\n",
       "    </tr>\n",
       "    <tr>\n",
       "      <th>15</th>\n",
       "      <td>Sakakah</td>\n",
       "      <td>SA</td>\n",
       "      <td>77.00</td>\n",
       "      <td>29.97</td>\n",
       "      <td>40.21</td>\n",
       "      <td>Fakhamat Al Orjoana Apartment</td>\n",
       "    </tr>\n",
       "    <tr>\n",
       "      <th>16</th>\n",
       "      <td>Shingu</td>\n",
       "      <td>JP</td>\n",
       "      <td>77.00</td>\n",
       "      <td>33.73</td>\n",
       "      <td>135.98</td>\n",
       "      <td>Shingu UI Hotel</td>\n",
       "    </tr>\n",
       "    <tr>\n",
       "      <th>17</th>\n",
       "      <td>Hay River</td>\n",
       "      <td>CA</td>\n",
       "      <td>75.20</td>\n",
       "      <td>60.82</td>\n",
       "      <td>-115.80</td>\n",
       "      <td>Ptarmigan Inn Hotels</td>\n",
       "    </tr>\n",
       "    <tr>\n",
       "      <th>26</th>\n",
       "      <td>Hilo</td>\n",
       "      <td>US</td>\n",
       "      <td>82.40</td>\n",
       "      <td>19.73</td>\n",
       "      <td>-155.09</td>\n",
       "      <td>Hilo Hawaiian Hotel</td>\n",
       "    </tr>\n",
       "    <tr>\n",
       "      <th>30</th>\n",
       "      <td>Dongsheng</td>\n",
       "      <td>CN</td>\n",
       "      <td>80.22</td>\n",
       "      <td>39.82</td>\n",
       "      <td>109.98</td>\n",
       "      <td>Crowne Plaza Ordos</td>\n",
       "    </tr>\n",
       "  </tbody>\n",
       "</table>\n",
       "</div>"
      ],
      "text/plain": [
       "          City Country  Max Temp    Lat     Lng                     Hotel Name\n",
       "1    Hithadhoo      MV     84.18  -0.60   73.08              Scoop Guest House\n",
       "4        Vaini      TO     78.80 -21.20 -175.20            Keleti Beach Resort\n",
       "7   Logan Lake      CA     77.00  50.50 -120.80           Copper Valley Resort\n",
       "10        Naze      JP     82.40  28.37  129.48                    奄美ポートタワーホテル\n",
       "11      Matara      LK     81.84   5.95   80.54         Amaloh Boutique Resort\n",
       "15     Sakakah      SA     77.00  29.97   40.21  Fakhamat Al Orjoana Apartment\n",
       "16      Shingu      JP     77.00  33.73  135.98                Shingu UI Hotel\n",
       "17   Hay River      CA     75.20  60.82 -115.80           Ptarmigan Inn Hotels\n",
       "26        Hilo      US     82.40  19.73 -155.09            Hilo Hawaiian Hotel\n",
       "30   Dongsheng      CN     80.22  39.82  109.98             Crowne Plaza Ordos"
      ]
     },
     "execution_count": 20,
     "metadata": {},
     "output_type": "execute_result"
    }
   ],
   "source": [
    "hotel_df.head(10)"
   ]
  },
  {
   "cell_type": "code",
   "execution_count": 22,
   "metadata": {},
   "outputs": [
    {
     "data": {
      "application/vnd.jupyter.widget-view+json": {
       "model_id": "daa496242b5d4ef99ecc72a4f345ffd4",
       "version_major": 2,
       "version_minor": 0
      },
      "text/plain": [
       "Figure(layout=FigureLayout(height='420px'))"
      ]
     },
     "metadata": {},
     "output_type": "display_data"
    }
   ],
   "source": [
    "# Add a heatmap of temperature for the vacation spots and marker for each city.\n",
    "locations = hotel_df[[\"Lat\", \"Lng\"]]\n",
    "max_temp = hotel_df[\"Max Temp\"]\n",
    "fig = gmaps.figure(center=(30.0, 31.0), zoom_level=1.5)\n",
    "heat_layer = gmaps.heatmap_layer(locations, weights=max_temp, \n",
    "             dissipating=False, max_intensity=300, point_radius=4)\n",
    "marker_layer = gmaps.marker_layer(locations)\n",
    "fig.add_layer(heat_layer)\n",
    "fig.add_layer(marker_layer)\n",
    "# Call the figure to plot the data.\n",
    "fig"
   ]
  },
  {
   "cell_type": "code",
   "execution_count": 25,
   "metadata": {},
   "outputs": [],
   "source": [
    "info_box_template = \"\"\"\n",
    "<dl>\n",
    "<dt>Hotel Name</dt><dd>{Hotel Name}</dd>\n",
    "<dt>City</dt><dd>{City}</dd>\n",
    "<dt>Country</dt><dd>{Country}</dd>\n",
    "<dt>Max Temp</dt><dd>{Max Temp} °F</dd>\n",
    "</dl>\n",
    "\"\"\""
   ]
  },
  {
   "cell_type": "code",
   "execution_count": 26,
   "metadata": {},
   "outputs": [],
   "source": [
    "# Store the DataFrame Row.\n",
    "hotel_info = [info_box_template.format(**row) for index, row in hotel_df.iterrows()]"
   ]
  },
  {
   "cell_type": "code",
   "execution_count": 27,
   "metadata": {},
   "outputs": [
    {
     "data": {
      "application/vnd.jupyter.widget-view+json": {
       "model_id": "3e49e95f75234d539324e04fe7f3fe7c",
       "version_major": 2,
       "version_minor": 0
      },
      "text/plain": [
       "Figure(layout=FigureLayout(height='420px'))"
      ]
     },
     "metadata": {},
     "output_type": "display_data"
    }
   ],
   "source": [
    "# Add a heatmap of temperature for the vacation spots and a pop-up marker for each city.\n",
    "locations = hotel_df[[\"Lat\", \"Lng\"]]\n",
    "max_temp = hotel_df[\"Max Temp\"]\n",
    "fig = gmaps.figure(center=(30.0, 31.0), zoom_level=1.5)\n",
    "heat_layer = gmaps.heatmap_layer(locations, weights=max_temp,dissipating=False,\n",
    "             max_intensity=300, point_radius=4)\n",
    "marker_layer = gmaps.marker_layer(locations, info_box_content=hotel_info)\n",
    "fig.add_layer(heat_layer)\n",
    "fig.add_layer(marker_layer)\n",
    "\n",
    "# Call the figure to plot the data.\n",
    "fig"
   ]
  },
  {
   "cell_type": "code",
   "execution_count": null,
   "metadata": {},
   "outputs": [],
   "source": []
  }
 ],
 "metadata": {
  "kernelspec": {
   "display_name": "PythonData",
   "language": "python",
   "name": "pythondata"
  },
  "language_info": {
   "codemirror_mode": {
    "name": "ipython",
    "version": 3
   },
   "file_extension": ".py",
   "mimetype": "text/x-python",
   "name": "python",
   "nbconvert_exporter": "python",
   "pygments_lexer": "ipython3",
   "version": "3.7.7"
  }
 },
 "nbformat": 4,
 "nbformat_minor": 4
}
